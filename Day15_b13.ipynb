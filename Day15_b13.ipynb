{
 "cells": [
  {
   "cell_type": "code",
   "execution_count": 1,
   "metadata": {},
   "outputs": [
    {
     "name": "stdout",
     "output_type": "stream",
     "text": [
      "Poornima\n",
      "Parthiban\n",
      "Yashita\n",
      "Shivani\n",
      "31\n",
      "30\n",
      "6\n",
      "0.3\n"
     ]
    }
   ],
   "source": [
    "with open('programming.txt') as file_object:\n",
    "    contents=file_object.read()\n",
    "print(contents)"
   ]
  },
  {
   "cell_type": "code",
   "execution_count": 2,
   "metadata": {},
   "outputs": [
    {
     "name": "stdout",
     "output_type": "stream",
     "text": [
      "Poornima\n",
      "\n",
      "Parthiban\n",
      "\n",
      "Yashita\n",
      "\n",
      "Shivani\n",
      "\n",
      "31\n",
      "\n",
      "30\n",
      "\n",
      "6\n",
      "\n",
      "0.3\n"
     ]
    }
   ],
   "source": [
    "filename='programming.txt'\n",
    "with open(filename) as file_object:\n",
    "    for contents1 in file_object:\n",
    "        print(contents1)"
   ]
  },
  {
   "cell_type": "code",
   "execution_count": 8,
   "metadata": {},
   "outputs": [],
   "source": [
    "filename='programming.txt'\n",
    "with open(filename, 'w') as file_object:\n",
    "    file_object.write('I love python\\n')"
   ]
  },
  {
   "cell_type": "code",
   "execution_count": 9,
   "metadata": {},
   "outputs": [
    {
     "name": "stdout",
     "output_type": "stream",
     "text": [
      "I love python\n",
      "\n"
     ]
    }
   ],
   "source": [
    "with open('programming.txt') as file_object:\n",
    "    contents=file_object.read()\n",
    "print(contents)"
   ]
  },
  {
   "cell_type": "code",
   "execution_count": 10,
   "metadata": {},
   "outputs": [],
   "source": [
    "filename='programming.txt'\n",
    "with open(filename, 'a') as file_object:\n",
    "    file_object.write('Python has been considered as most demanded language in 2019.')"
   ]
  },
  {
   "cell_type": "code",
   "execution_count": 11,
   "metadata": {},
   "outputs": [
    {
     "name": "stdout",
     "output_type": "stream",
     "text": [
      "I love python\n",
      "Python has been considered as most demanded language in 2019.\n"
     ]
    }
   ],
   "source": [
    "with open('programming.txt') as file_object:\n",
    "    contents=file_object.read()\n",
    "print(contents)"
   ]
  },
  {
   "cell_type": "code",
   "execution_count": 12,
   "metadata": {},
   "outputs": [],
   "source": [
    "filename='programming.txt'\n",
    "with open(filename, 'w') as file_object:\n",
    "    file_object.write('I love python\\n')\n",
    "    file_object.write('Python has been considered as most demanded language in 2020.')"
   ]
  },
  {
   "cell_type": "code",
   "execution_count": 13,
   "metadata": {},
   "outputs": [
    {
     "name": "stdout",
     "output_type": "stream",
     "text": [
      "I love python\n",
      "Python has been considered as most demanded language in 2020.\n"
     ]
    }
   ],
   "source": [
    "with open('programming.txt') as file_object:\n",
    "    contents=file_object.read()\n",
    "print(contents)"
   ]
  },
  {
   "cell_type": "code",
   "execution_count": null,
   "metadata": {},
   "outputs": [],
   "source": []
  }
 ],
 "metadata": {
  "kernelspec": {
   "display_name": "Python 3",
   "language": "python",
   "name": "python3"
  },
  "language_info": {
   "codemirror_mode": {
    "name": "ipython",
    "version": 3
   },
   "file_extension": ".py",
   "mimetype": "text/x-python",
   "name": "python",
   "nbconvert_exporter": "python",
   "pygments_lexer": "ipython3",
   "version": "3.7.6"
  }
 },
 "nbformat": 4,
 "nbformat_minor": 4
}
